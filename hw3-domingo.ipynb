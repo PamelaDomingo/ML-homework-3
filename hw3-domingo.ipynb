{
 "cells": [
  {
   "cell_type": "code",
   "execution_count": 1,
   "id": "3e77a41b",
   "metadata": {},
   "outputs": [
    {
     "name": "stdout",
     "output_type": "stream",
     "text": [
      "%pylab is deprecated, use %matplotlib inline and import the required libraries.\n",
      "Populating the interactive namespace from numpy and matplotlib\n"
     ]
    }
   ],
   "source": [
    "%pylab inline"
   ]
  },
  {
   "cell_type": "markdown",
   "id": "6cedd403",
   "metadata": {},
   "source": [
    "# Homework 3"
   ]
  },
  {
   "cell_type": "markdown",
   "id": "2c4d5925",
   "metadata": {},
   "source": [
    "### Import Libraries"
   ]
  },
  {
   "cell_type": "code",
   "execution_count": 2,
   "id": "c89d89aa",
   "metadata": {},
   "outputs": [],
   "source": [
    "##### Standard Libraries #####\n",
    "import numpy as np\n",
    "import pandas as pd\n",
    "import matplotlib.pyplot as plt\n",
    "import seaborn as sns\n",
    "sns.set_style(\"whitegrid\")\n",
    "sns.set_context(\"poster\")\n",
    "\n",
    "%matplotlib inline\n",
    "\n",
    "##### For Preprocessing #####\n",
    "from sklearn.model_selection import train_test_split\n",
    "from sklearn.preprocessing import scale\n",
    "\n",
    "\n",
    "##### For Validation of the Model #####\n",
    "from sklearn.metrics import r2_score"
   ]
  },
  {
   "cell_type": "markdown",
   "id": "df55b53d",
   "metadata": {},
   "source": [
    "#### 1. . Load Advertising.csv dataset using pandas"
   ]
  },
  {
   "cell_type": "code",
   "execution_count": 3,
   "id": "98cfc784",
   "metadata": {},
   "outputs": [
    {
     "name": "stdout",
     "output_type": "stream",
     "text": [
      "Size of the data: (200, 4)\n"
     ]
    },
    {
     "data": {
      "text/html": [
       "<div>\n",
       "<style scoped>\n",
       "    .dataframe tbody tr th:only-of-type {\n",
       "        vertical-align: middle;\n",
       "    }\n",
       "\n",
       "    .dataframe tbody tr th {\n",
       "        vertical-align: top;\n",
       "    }\n",
       "\n",
       "    .dataframe thead th {\n",
       "        text-align: right;\n",
       "    }\n",
       "</style>\n",
       "<table border=\"1\" class=\"dataframe\">\n",
       "  <thead>\n",
       "    <tr style=\"text-align: right;\">\n",
       "      <th></th>\n",
       "      <th>TV</th>\n",
       "      <th>Radio</th>\n",
       "      <th>Newspaper</th>\n",
       "      <th>Sales</th>\n",
       "    </tr>\n",
       "  </thead>\n",
       "  <tbody>\n",
       "    <tr>\n",
       "      <th>1</th>\n",
       "      <td>230.1</td>\n",
       "      <td>37.8</td>\n",
       "      <td>69.2</td>\n",
       "      <td>22.1</td>\n",
       "    </tr>\n",
       "    <tr>\n",
       "      <th>2</th>\n",
       "      <td>44.5</td>\n",
       "      <td>39.3</td>\n",
       "      <td>45.1</td>\n",
       "      <td>10.4</td>\n",
       "    </tr>\n",
       "    <tr>\n",
       "      <th>3</th>\n",
       "      <td>17.2</td>\n",
       "      <td>45.9</td>\n",
       "      <td>69.3</td>\n",
       "      <td>9.3</td>\n",
       "    </tr>\n",
       "    <tr>\n",
       "      <th>4</th>\n",
       "      <td>151.5</td>\n",
       "      <td>41.3</td>\n",
       "      <td>58.5</td>\n",
       "      <td>18.5</td>\n",
       "    </tr>\n",
       "    <tr>\n",
       "      <th>5</th>\n",
       "      <td>180.8</td>\n",
       "      <td>10.8</td>\n",
       "      <td>58.4</td>\n",
       "      <td>12.9</td>\n",
       "    </tr>\n",
       "  </tbody>\n",
       "</table>\n",
       "</div>"
      ],
      "text/plain": [
       "      TV  Radio  Newspaper  Sales\n",
       "1  230.1   37.8       69.2   22.1\n",
       "2   44.5   39.3       45.1   10.4\n",
       "3   17.2   45.9       69.3    9.3\n",
       "4  151.5   41.3       58.5   18.5\n",
       "5  180.8   10.8       58.4   12.9"
      ]
     },
     "execution_count": 3,
     "metadata": {},
     "output_type": "execute_result"
    }
   ],
   "source": [
    "### Load the data\n",
    "df = pd.read_csv(\"Advertising.csv\", index_col = 0)\n",
    "print(\"Size of the data:\", df.shape)\n",
    "df.head()"
   ]
  },
  {
   "cell_type": "markdown",
   "id": "0ce1ce10",
   "metadata": {},
   "source": [
    "#### 2. Standardize each column of the dataset"
   ]
  },
  {
   "cell_type": "code",
   "execution_count": 4,
   "id": "c698c712",
   "metadata": {},
   "outputs": [
    {
     "data": {
      "text/html": [
       "<div>\n",
       "<style scoped>\n",
       "    .dataframe tbody tr th:only-of-type {\n",
       "        vertical-align: middle;\n",
       "    }\n",
       "\n",
       "    .dataframe tbody tr th {\n",
       "        vertical-align: top;\n",
       "    }\n",
       "\n",
       "    .dataframe thead th {\n",
       "        text-align: right;\n",
       "    }\n",
       "</style>\n",
       "<table border=\"1\" class=\"dataframe\">\n",
       "  <thead>\n",
       "    <tr style=\"text-align: right;\">\n",
       "      <th></th>\n",
       "      <th>TV</th>\n",
       "      <th>Radio</th>\n",
       "      <th>Newspaper</th>\n",
       "      <th>Sales</th>\n",
       "    </tr>\n",
       "  </thead>\n",
       "  <tbody>\n",
       "    <tr>\n",
       "      <th>1</th>\n",
       "      <td>0.967425</td>\n",
       "      <td>0.979066</td>\n",
       "      <td>1.774493</td>\n",
       "      <td>1.548168</td>\n",
       "    </tr>\n",
       "    <tr>\n",
       "      <th>2</th>\n",
       "      <td>-1.194379</td>\n",
       "      <td>1.080097</td>\n",
       "      <td>0.667903</td>\n",
       "      <td>-0.694304</td>\n",
       "    </tr>\n",
       "    <tr>\n",
       "      <th>3</th>\n",
       "      <td>-1.512360</td>\n",
       "      <td>1.524637</td>\n",
       "      <td>1.779084</td>\n",
       "      <td>-0.905135</td>\n",
       "    </tr>\n",
       "    <tr>\n",
       "      <th>4</th>\n",
       "      <td>0.051919</td>\n",
       "      <td>1.214806</td>\n",
       "      <td>1.283185</td>\n",
       "      <td>0.858177</td>\n",
       "    </tr>\n",
       "    <tr>\n",
       "      <th>5</th>\n",
       "      <td>0.393196</td>\n",
       "      <td>-0.839507</td>\n",
       "      <td>1.278593</td>\n",
       "      <td>-0.215143</td>\n",
       "    </tr>\n",
       "    <tr>\n",
       "      <th>...</th>\n",
       "      <td>...</td>\n",
       "      <td>...</td>\n",
       "      <td>...</td>\n",
       "      <td>...</td>\n",
       "    </tr>\n",
       "    <tr>\n",
       "      <th>196</th>\n",
       "      <td>-1.267759</td>\n",
       "      <td>-1.317724</td>\n",
       "      <td>-0.769287</td>\n",
       "      <td>-1.230964</td>\n",
       "    </tr>\n",
       "    <tr>\n",
       "      <th>197</th>\n",
       "      <td>-0.615491</td>\n",
       "      <td>-1.236899</td>\n",
       "      <td>-1.031011</td>\n",
       "      <td>-0.828469</td>\n",
       "    </tr>\n",
       "    <tr>\n",
       "      <th>198</th>\n",
       "      <td>0.348934</td>\n",
       "      <td>-0.940539</td>\n",
       "      <td>-1.109069</td>\n",
       "      <td>-0.234310</td>\n",
       "    </tr>\n",
       "    <tr>\n",
       "      <th>199</th>\n",
       "      <td>1.590574</td>\n",
       "      <td>1.261955</td>\n",
       "      <td>1.636743</td>\n",
       "      <td>2.199827</td>\n",
       "    </tr>\n",
       "    <tr>\n",
       "      <th>200</th>\n",
       "      <td>0.990720</td>\n",
       "      <td>-0.987687</td>\n",
       "      <td>-1.003461</td>\n",
       "      <td>-0.119311</td>\n",
       "    </tr>\n",
       "  </tbody>\n",
       "</table>\n",
       "<p>200 rows × 4 columns</p>\n",
       "</div>"
      ],
      "text/plain": [
       "           TV     Radio  Newspaper     Sales\n",
       "1    0.967425  0.979066   1.774493  1.548168\n",
       "2   -1.194379  1.080097   0.667903 -0.694304\n",
       "3   -1.512360  1.524637   1.779084 -0.905135\n",
       "4    0.051919  1.214806   1.283185  0.858177\n",
       "5    0.393196 -0.839507   1.278593 -0.215143\n",
       "..        ...       ...        ...       ...\n",
       "196 -1.267759 -1.317724  -0.769287 -1.230964\n",
       "197 -0.615491 -1.236899  -1.031011 -0.828469\n",
       "198  0.348934 -0.940539  -1.109069 -0.234310\n",
       "199  1.590574  1.261955   1.636743  2.199827\n",
       "200  0.990720 -0.987687  -1.003461 -0.119311\n",
       "\n",
       "[200 rows x 4 columns]"
      ]
     },
     "execution_count": 4,
     "metadata": {},
     "output_type": "execute_result"
    }
   ],
   "source": [
    "# scaler = scale(df, axis=0, with_mean=True, with_std=True, copy=False)\n",
    "# df_scaled = pd.DataFrame(scaler, columns = df.columns)\n",
    "# df_scaled.index = df_scaled.index + 1\n",
    "# df_scaled\n",
    "df_scaled = (df - df.mean()) / df.std()\n",
    "df_scaled"
   ]
  },
  {
   "cell_type": "markdown",
   "id": "2e3057f8",
   "metadata": {},
   "source": [
    "#### 3.  Add an extra column composing of all ones to X"
   ]
  },
  {
   "cell_type": "code",
   "execution_count": 5,
   "id": "ac982255",
   "metadata": {},
   "outputs": [
    {
     "data": {
      "text/html": [
       "<div>\n",
       "<style scoped>\n",
       "    .dataframe tbody tr th:only-of-type {\n",
       "        vertical-align: middle;\n",
       "    }\n",
       "\n",
       "    .dataframe tbody tr th {\n",
       "        vertical-align: top;\n",
       "    }\n",
       "\n",
       "    .dataframe thead th {\n",
       "        text-align: right;\n",
       "    }\n",
       "</style>\n",
       "<table border=\"1\" class=\"dataframe\">\n",
       "  <thead>\n",
       "    <tr style=\"text-align: right;\">\n",
       "      <th></th>\n",
       "      <th>bias</th>\n",
       "      <th>TV</th>\n",
       "      <th>Radio</th>\n",
       "      <th>Newspaper</th>\n",
       "    </tr>\n",
       "  </thead>\n",
       "  <tbody>\n",
       "    <tr>\n",
       "      <th>1</th>\n",
       "      <td>1</td>\n",
       "      <td>0.967425</td>\n",
       "      <td>0.979066</td>\n",
       "      <td>1.774493</td>\n",
       "    </tr>\n",
       "    <tr>\n",
       "      <th>2</th>\n",
       "      <td>1</td>\n",
       "      <td>-1.194379</td>\n",
       "      <td>1.080097</td>\n",
       "      <td>0.667903</td>\n",
       "    </tr>\n",
       "    <tr>\n",
       "      <th>3</th>\n",
       "      <td>1</td>\n",
       "      <td>-1.512360</td>\n",
       "      <td>1.524637</td>\n",
       "      <td>1.779084</td>\n",
       "    </tr>\n",
       "    <tr>\n",
       "      <th>4</th>\n",
       "      <td>1</td>\n",
       "      <td>0.051919</td>\n",
       "      <td>1.214806</td>\n",
       "      <td>1.283185</td>\n",
       "    </tr>\n",
       "    <tr>\n",
       "      <th>5</th>\n",
       "      <td>1</td>\n",
       "      <td>0.393196</td>\n",
       "      <td>-0.839507</td>\n",
       "      <td>1.278593</td>\n",
       "    </tr>\n",
       "    <tr>\n",
       "      <th>...</th>\n",
       "      <td>...</td>\n",
       "      <td>...</td>\n",
       "      <td>...</td>\n",
       "      <td>...</td>\n",
       "    </tr>\n",
       "    <tr>\n",
       "      <th>196</th>\n",
       "      <td>1</td>\n",
       "      <td>-1.267759</td>\n",
       "      <td>-1.317724</td>\n",
       "      <td>-0.769287</td>\n",
       "    </tr>\n",
       "    <tr>\n",
       "      <th>197</th>\n",
       "      <td>1</td>\n",
       "      <td>-0.615491</td>\n",
       "      <td>-1.236899</td>\n",
       "      <td>-1.031011</td>\n",
       "    </tr>\n",
       "    <tr>\n",
       "      <th>198</th>\n",
       "      <td>1</td>\n",
       "      <td>0.348934</td>\n",
       "      <td>-0.940539</td>\n",
       "      <td>-1.109069</td>\n",
       "    </tr>\n",
       "    <tr>\n",
       "      <th>199</th>\n",
       "      <td>1</td>\n",
       "      <td>1.590574</td>\n",
       "      <td>1.261955</td>\n",
       "      <td>1.636743</td>\n",
       "    </tr>\n",
       "    <tr>\n",
       "      <th>200</th>\n",
       "      <td>1</td>\n",
       "      <td>0.990720</td>\n",
       "      <td>-0.987687</td>\n",
       "      <td>-1.003461</td>\n",
       "    </tr>\n",
       "  </tbody>\n",
       "</table>\n",
       "<p>200 rows × 4 columns</p>\n",
       "</div>"
      ],
      "text/plain": [
       "     bias        TV     Radio  Newspaper\n",
       "1       1  0.967425  0.979066   1.774493\n",
       "2       1 -1.194379  1.080097   0.667903\n",
       "3       1 -1.512360  1.524637   1.779084\n",
       "4       1  0.051919  1.214806   1.283185\n",
       "5       1  0.393196 -0.839507   1.278593\n",
       "..    ...       ...       ...        ...\n",
       "196     1 -1.267759 -1.317724  -0.769287\n",
       "197     1 -0.615491 -1.236899  -1.031011\n",
       "198     1  0.348934 -0.940539  -1.109069\n",
       "199     1  1.590574  1.261955   1.636743\n",
       "200     1  0.990720 -0.987687  -1.003461\n",
       "\n",
       "[200 rows x 4 columns]"
      ]
     },
     "execution_count": 5,
     "metadata": {},
     "output_type": "execute_result"
    }
   ],
   "source": [
    "x = df_scaled.drop(\"Sales\", axis = 1)\n",
    "x.insert(0, 'bias', [1]*len(df_scaled))\n",
    "x"
   ]
  },
  {
   "cell_type": "markdown",
   "id": "11d288cf",
   "metadata": {},
   "source": [
    "#### 4. Divide the dataset into training and testing, with 0.85 and 0.25 ratio, respectivel"
   ]
  },
  {
   "cell_type": "code",
   "execution_count": 6,
   "id": "8442654c",
   "metadata": {},
   "outputs": [
    {
     "name": "stdout",
     "output_type": "stream",
     "text": [
      "x_train size: (150, 4)\n",
      "y_train size: (150,)\n",
      "\n",
      "x_test size: (50, 4)\n",
      "y_test size: (50,)\n"
     ]
    }
   ],
   "source": [
    "### Separate the predictor and the target variable \n",
    "x0 = x[\"bias\"]\n",
    "x1 = x[\"TV\"]\n",
    "x2 = x[\"Radio\"]\n",
    "x3 = x[\"Newspaper\"]\n",
    "y = df_scaled[\"Sales\"]\n",
    "\n",
    "x_train, x_test, y_train, y_test = train_test_split(x, y, test_size=0.25, random_state = 42)\n",
    "\n",
    "print(\"x_train size:\", x_train.shape)\n",
    "print(\"y_train size:\", y_train.shape)\n",
    "print(\"\\nx_test size:\", x_test.shape)\n",
    "print(\"y_test size:\", y_test.shape)\n"
   ]
  },
  {
   "cell_type": "markdown",
   "id": "c1965a68",
   "metadata": {},
   "source": [
    "#### 5. Fit the model on the training set."
   ]
  },
  {
   "cell_type": "markdown",
   "id": "3c10ee2d",
   "metadata": {},
   "source": [
    "1. initialize_weights: returns a vector init_w composing of 4 uniformly distributed numbers between 0 and 1.\n"
   ]
  },
  {
   "cell_type": "code",
   "execution_count": 7,
   "id": "99bf1d17",
   "metadata": {},
   "outputs": [],
   "source": [
    "def initialize_weights():\n",
    "    init_w = np.array([0.0, 0.0, 0.0, 0.0])\n",
    "    return init_w\n",
    "init_w = initialize_weights()"
   ]
  },
  {
   "cell_type": "markdown",
   "id": "73f63941",
   "metadata": {},
   "source": [
    "2. predict: returns a vector of the predicted value yhat"
   ]
  },
  {
   "cell_type": "code",
   "execution_count": 8,
   "id": "4e576a9e",
   "metadata": {},
   "outputs": [],
   "source": [
    "def predict(w, x):\n",
    "    y_train_hat= np.dot(x, w) \n",
    "    #y_train_hat= np.sum(np.multiply(w, x_train), axis = 1)\n",
    "    \n",
    "    return y_train_hat"
   ]
  },
  {
   "cell_type": "markdown",
   "id": "52a9ff23",
   "metadata": {},
   "source": [
    "3. compute_cost: returns a scalar value that tells us how accurate the model is."
   ]
  },
  {
   "cell_type": "code",
   "execution_count": 9,
   "id": "fb30c94b",
   "metadata": {},
   "outputs": [],
   "source": [
    "def compute_cost(y, y_hat):\n",
    "    m = y.size\n",
    "    return np.sum(np.square(y_hat - y)) / (2*m)"
   ]
  },
  {
   "cell_type": "markdown",
   "id": "9771d91f",
   "metadata": {},
   "source": [
    "4. compute_gradient: returns a matrix w that represents the partial derivative of the cost function with respect to each parameter."
   ]
  },
  {
   "cell_type": "code",
   "execution_count": 10,
   "id": "782a1c7e",
   "metadata": {},
   "outputs": [],
   "source": [
    "def compute_gradient(x, y, y_hat):\n",
    "    return np.dot((y_hat - y), x)"
   ]
  },
  {
   "cell_type": "markdown",
   "id": "ba27b710",
   "metadata": {},
   "source": [
    "5. update_weights: returns a 4x1 matrix that contains the updated weights."
   ]
  },
  {
   "cell_type": "code",
   "execution_count": 11,
   "id": "3c75d358",
   "metadata": {},
   "outputs": [],
   "source": [
    "def update_weights(w, a, grads, m):\n",
    "    return w - (a * grads) / m"
   ]
  },
  {
   "cell_type": "markdown",
   "id": "cb192bf9",
   "metadata": {},
   "source": [
    "6. grad_descent: returns 2 matrices: one matrix for the weights, and one matrix for the cost values per iteration."
   ]
  },
  {
   "cell_type": "code",
   "execution_count": 12,
   "id": "626e75c4",
   "metadata": {},
   "outputs": [],
   "source": [
    "#optimal = 10000, 0.8\n",
    "iterations = 10000\n",
    "lr = 0.8\n",
    "def grad_descent(w, x, y, iters, a):\n",
    "    m = y.size\n",
    "    costs = []\n",
    "    for _ in range(iters):\n",
    "        y_hat = predict(w, x)\n",
    "        cost = compute_cost(y, y_hat)\n",
    "        costs.append(cost)\n",
    "        gradients = compute_gradient(x, y, y_hat)\n",
    "        w = update_weights(w, a, gradients, m)\n",
    "    return w, costs\n",
    "\n",
    "w, costs = grad_descent(init_w, x_train, y_train, iterations, lr)\n"
   ]
  },
  {
   "cell_type": "markdown",
   "id": "205f88a7",
   "metadata": {},
   "source": [
    "7. plot_costs: plot the costs as a function of iteration."
   ]
  },
  {
   "cell_type": "code",
   "execution_count": 13,
   "id": "c19b8f8c",
   "metadata": {},
   "outputs": [
    {
     "data": {
      "text/plain": [
       "[<matplotlib.lines.Line2D at 0x237ebc7c070>]"
      ]
     },
     "execution_count": 13,
     "metadata": {},
     "output_type": "execute_result"
    },
    {
     "data": {
      "image/png": "[encoded data removed]",
      "text/plain": [
       "<Figure size 432x288 with 1 Axes>"
      ]
     },
     "metadata": {
      "needs_background": "light"
     },
     "output_type": "display_data"
    }
   ],
   "source": [
    "plt.plot(costs)"
   ]
  },
  {
   "cell_type": "markdown",
   "id": "f791862d",
   "metadata": {},
   "source": [
    "8. Predict y for train set and calculate the cost."
   ]
  },
  {
   "cell_type": "code",
   "execution_count": 14,
   "id": "4639f30e",
   "metadata": {},
   "outputs": [
    {
     "data": {
      "text/plain": [
       "0.05083950524077337"
      ]
     },
     "execution_count": 14,
     "metadata": {},
     "output_type": "execute_result"
    }
   ],
   "source": [
    "y_train_pred = predict(w, x_train)\n",
    "y_train_pred_cost = compute_cost(y_train, y_train_pred)\n",
    "y_train_pred_cost"
   ]
  },
  {
   "cell_type": "markdown",
   "id": "c669b6c1",
   "metadata": {},
   "source": [
    "9. Predict y for test set and calculate the cost"
   ]
  },
  {
   "cell_type": "code",
   "execution_count": 15,
   "id": "a2b7b1ba",
   "metadata": {},
   "outputs": [
    {
     "data": {
      "text/plain": [
       "0.0528991124979487"
      ]
     },
     "execution_count": 15,
     "metadata": {},
     "output_type": "execute_result"
    }
   ],
   "source": [
    "y_test_pred = predict(w, x_test)\n",
    "y_test_pred_cost = compute_cost(y_test, y_test_pred)\n",
    "y_test_pred_cost"
   ]
  },
  {
   "cell_type": "markdown",
   "id": "1c20d85a",
   "metadata": {},
   "source": [
    "#### 6. Predict the quantitative response y on the train set. Evaluate performance. You can use the MSE cost function defined for the gradient descent."
   ]
  },
  {
   "cell_type": "code",
   "execution_count": 16,
   "id": "430cc7e9",
   "metadata": {},
   "outputs": [
    {
     "data": {
      "text/html": [
       "<div>\n",
       "<style scoped>\n",
       "    .dataframe tbody tr th:only-of-type {\n",
       "        vertical-align: middle;\n",
       "    }\n",
       "\n",
       "    .dataframe tbody tr th {\n",
       "        vertical-align: top;\n",
       "    }\n",
       "\n",
       "    .dataframe thead th {\n",
       "        text-align: right;\n",
       "    }\n",
       "</style>\n",
       "<table border=\"1\" class=\"dataframe\">\n",
       "  <thead>\n",
       "    <tr style=\"text-align: right;\">\n",
       "      <th></th>\n",
       "      <th>bias</th>\n",
       "      <th>TV</th>\n",
       "      <th>Radio</th>\n",
       "      <th>Newspaper</th>\n",
       "      <th>ŷ</th>\n",
       "    </tr>\n",
       "  </thead>\n",
       "  <tbody>\n",
       "    <tr>\n",
       "      <th>115</th>\n",
       "      <td>1</td>\n",
       "      <td>-0.801853</td>\n",
       "      <td>1.585256</td>\n",
       "      <td>0.181187</td>\n",
       "      <td>0.260179</td>\n",
       "    </tr>\n",
       "    <tr>\n",
       "      <th>174</th>\n",
       "      <td>1</td>\n",
       "      <td>0.248765</td>\n",
       "      <td>-1.088719</td>\n",
       "      <td>-0.815203</td>\n",
       "      <td>-0.421848</td>\n",
       "    </tr>\n",
       "    <tr>\n",
       "      <th>6</th>\n",
       "      <td>1</td>\n",
       "      <td>-1.611365</td>\n",
       "      <td>1.726701</td>\n",
       "      <td>2.040809</td>\n",
       "      <td>-0.248031</td>\n",
       "    </tr>\n",
       "    <tr>\n",
       "      <th>127</th>\n",
       "      <td>1</td>\n",
       "      <td>-1.621848</td>\n",
       "      <td>1.053156</td>\n",
       "      <td>0.920444</td>\n",
       "      <td>-0.634832</td>\n",
       "    </tr>\n",
       "    <tr>\n",
       "      <th>118</th>\n",
       "      <td>1</td>\n",
       "      <td>-0.822819</td>\n",
       "      <td>-1.513052</td>\n",
       "      <td>-0.723370</td>\n",
       "      <td>-1.453179</td>\n",
       "    </tr>\n",
       "  </tbody>\n",
       "</table>\n",
       "</div>"
      ],
      "text/plain": [
       "     bias        TV     Radio  Newspaper         ŷ\n",
       "115     1 -0.801853  1.585256   0.181187  0.260179\n",
       "174     1  0.248765 -1.088719  -0.815203 -0.421848\n",
       "6       1 -1.611365  1.726701   2.040809 -0.248031\n",
       "127     1 -1.621848  1.053156   0.920444 -0.634832\n",
       "118     1 -0.822819 -1.513052  -0.723370 -1.453179"
      ]
     },
     "execution_count": 16,
     "metadata": {},
     "output_type": "execute_result"
    }
   ],
   "source": [
    "x_train['ŷ'] = predict(w, x_train)\n",
    "x_train_mse = compute_cost(y_train, x_train['ŷ'])\n",
    "x_train.head()"
   ]
  },
  {
   "cell_type": "markdown",
   "id": "2d449d23",
   "metadata": {},
   "source": [
    "#### 7. Predict the quantitative response y on the test set. Evaluate performance. Similarly, you can use the MSE cost function defined for the gradient descent."
   ]
  },
  {
   "cell_type": "code",
   "execution_count": 17,
   "id": "76417ef4",
   "metadata": {},
   "outputs": [
    {
     "data": {
      "text/html": [
       "<div>\n",
       "<style scoped>\n",
       "    .dataframe tbody tr th:only-of-type {\n",
       "        vertical-align: middle;\n",
       "    }\n",
       "\n",
       "    .dataframe tbody tr th {\n",
       "        vertical-align: top;\n",
       "    }\n",
       "\n",
       "    .dataframe thead th {\n",
       "        text-align: right;\n",
       "    }\n",
       "</style>\n",
       "<table border=\"1\" class=\"dataframe\">\n",
       "  <thead>\n",
       "    <tr style=\"text-align: right;\">\n",
       "      <th></th>\n",
       "      <th>bias</th>\n",
       "      <th>TV</th>\n",
       "      <th>Radio</th>\n",
       "      <th>Newspaper</th>\n",
       "      <th>ŷ</th>\n",
       "    </tr>\n",
       "  </thead>\n",
       "  <tbody>\n",
       "    <tr>\n",
       "      <th>96</th>\n",
       "      <td>1</td>\n",
       "      <td>0.189362</td>\n",
       "      <td>0.561467</td>\n",
       "      <td>1.026052</td>\n",
       "      <td>0.452516</td>\n",
       "    </tr>\n",
       "    <tr>\n",
       "      <th>16</th>\n",
       "      <td>1</td>\n",
       "      <td>0.563251</td>\n",
       "      <td>1.645876</td>\n",
       "      <td>1.026052</td>\n",
       "      <td>1.322838</td>\n",
       "    </tr>\n",
       "    <tr>\n",
       "      <th>31</th>\n",
       "      <td>1</td>\n",
       "      <td>1.698897</td>\n",
       "      <td>0.339197</td>\n",
       "      <td>0.580661</td>\n",
       "      <td>1.455202</td>\n",
       "    </tr>\n",
       "    <tr>\n",
       "      <th>159</th>\n",
       "      <td>1</td>\n",
       "      <td>-1.576422</td>\n",
       "      <td>0.918447</td>\n",
       "      <td>0.672494</td>\n",
       "      <td>-0.676920</td>\n",
       "    </tr>\n",
       "    <tr>\n",
       "      <th>129</th>\n",
       "      <td>1</td>\n",
       "      <td>0.853278</td>\n",
       "      <td>1.733436</td>\n",
       "      <td>-1.256002</td>\n",
       "      <td>1.562908</td>\n",
       "    </tr>\n",
       "  </tbody>\n",
       "</table>\n",
       "</div>"
      ],
      "text/plain": [
       "     bias        TV     Radio  Newspaper         ŷ\n",
       "96      1  0.189362  0.561467   1.026052  0.452516\n",
       "16      1  0.563251  1.645876   1.026052  1.322838\n",
       "31      1  1.698897  0.339197   0.580661  1.455202\n",
       "159     1 -1.576422  0.918447   0.672494 -0.676920\n",
       "129     1  0.853278  1.733436  -1.256002  1.562908"
      ]
     },
     "execution_count": 17,
     "metadata": {},
     "output_type": "execute_result"
    }
   ],
   "source": [
    "x_test['ŷ'] = predict(w, x_test)\n",
    "x_test_mse = compute_cost(y_test, x_test['ŷ'])\n",
    "x_test.head()"
   ]
  },
  {
   "cell_type": "markdown",
   "id": "d1ad1473",
   "metadata": {},
   "source": [
    "#### 8.  Note: Since the data is standardized, you might be surprised that the predictions differ from the original data. In order to revert back a standardized data into the original form, we simply have to equate the previous equation:\n"
   ]
  },
  {
   "cell_type": "code",
   "execution_count": 18,
   "id": "3dcc119a",
   "metadata": {},
   "outputs": [
    {
     "data": {
      "text/html": [
       "<div>\n",
       "<style scoped>\n",
       "    .dataframe tbody tr th:only-of-type {\n",
       "        vertical-align: middle;\n",
       "    }\n",
       "\n",
       "    .dataframe tbody tr th {\n",
       "        vertical-align: top;\n",
       "    }\n",
       "\n",
       "    .dataframe thead th {\n",
       "        text-align: right;\n",
       "    }\n",
       "</style>\n",
       "<table border=\"1\" class=\"dataframe\">\n",
       "  <thead>\n",
       "    <tr style=\"text-align: right;\">\n",
       "      <th></th>\n",
       "      <th>TV</th>\n",
       "      <th>Radio</th>\n",
       "      <th>Newspaper</th>\n",
       "      <th>Sales</th>\n",
       "    </tr>\n",
       "  </thead>\n",
       "  <tbody>\n",
       "    <tr>\n",
       "      <th>1</th>\n",
       "      <td>230.1</td>\n",
       "      <td>37.8</td>\n",
       "      <td>69.2</td>\n",
       "      <td>22.1</td>\n",
       "    </tr>\n",
       "    <tr>\n",
       "      <th>2</th>\n",
       "      <td>44.5</td>\n",
       "      <td>39.3</td>\n",
       "      <td>45.1</td>\n",
       "      <td>10.4</td>\n",
       "    </tr>\n",
       "    <tr>\n",
       "      <th>3</th>\n",
       "      <td>17.2</td>\n",
       "      <td>45.9</td>\n",
       "      <td>69.3</td>\n",
       "      <td>9.3</td>\n",
       "    </tr>\n",
       "    <tr>\n",
       "      <th>4</th>\n",
       "      <td>151.5</td>\n",
       "      <td>41.3</td>\n",
       "      <td>58.5</td>\n",
       "      <td>18.5</td>\n",
       "    </tr>\n",
       "    <tr>\n",
       "      <th>5</th>\n",
       "      <td>180.8</td>\n",
       "      <td>10.8</td>\n",
       "      <td>58.4</td>\n",
       "      <td>12.9</td>\n",
       "    </tr>\n",
       "  </tbody>\n",
       "</table>\n",
       "</div>"
      ],
      "text/plain": [
       "      TV  Radio  Newspaper  Sales\n",
       "1  230.1   37.8       69.2   22.1\n",
       "2   44.5   39.3       45.1   10.4\n",
       "3   17.2   45.9       69.3    9.3\n",
       "4  151.5   41.3       58.5   18.5\n",
       "5  180.8   10.8       58.4   12.9"
      ]
     },
     "execution_count": 18,
     "metadata": {},
     "output_type": "execute_result"
    }
   ],
   "source": [
    "df_revert = df_scaled * df.std() + df.mean()\n",
    "df_revert.head()"
   ]
  },
  {
   "cell_type": "markdown",
   "id": "f00de7b1",
   "metadata": {},
   "source": [
    " #### 9. Observe the cost results and analyse. "
   ]
  },
  {
   "cell_type": "code",
   "execution_count": 19,
   "id": "dc048caf",
   "metadata": {},
   "outputs": [
    {
     "name": "stdout",
     "output_type": "stream",
     "text": [
      "0.0528991124979487\n",
      "0.05083950524077337\n"
     ]
    }
   ],
   "source": [
    "print(x_test_mse)\n",
    "print(x_train_mse)"
   ]
  },
  {
   "cell_type": "markdown",
   "id": "9692be54",
   "metadata": {},
   "source": [
    "Since the cost result or mse of the train set is less than the mse of the test set, it means that the model of the train set for predicting the sales is bettern than the test set's model. The closer the cost result or mse to 0 means that the predictors in the model will give a better quality of results for predicting the dependent variable."
   ]
  },
  {
   "cell_type": "markdown",
   "id": "e18d0c9d",
   "metadata": {},
   "source": [
    "### Questions:"
   ]
  },
  {
   "cell_type": "markdown",
   "id": "f45473ed",
   "metadata": {},
   "source": [
    "#### 2. Scatter plot of test and train sets with their r2 values."
   ]
  },
  {
   "cell_type": "code",
   "execution_count": 20,
   "id": "c3a0eb73",
   "metadata": {},
   "outputs": [
    {
     "name": "stdout",
     "output_type": "stream",
     "text": [
      "0.8843196200174289\n"
     ]
    },
    {
     "data": {
      "image/png": "[encoded data removed]",
      "text/plain": [
       "<Figure size 792x648 with 1 Axes>"
      ]
     },
     "metadata": {
      "needs_background": "light"
     },
     "output_type": "display_data"
    }
   ],
   "source": [
    "# test set scatter plot\n",
    "f, ax = plt.subplots(figsize=(11, 9))\n",
    "plt.scatter(y_test_pred, y_test)\n",
    "plt.xlabel(\"Predicted\")\n",
    "plt.ylabel(\"Actual\")\n",
    "plt.title(\"Actual vs Predicted\")\n",
    "\n",
    "#r2 of test set\n",
    "r2_test = r2_score(y_test_pred, y_test)\n",
    "print(r2_test)"
   ]
  },
  {
   "cell_type": "code",
   "execution_count": 21,
   "id": "5cd42ce1",
   "metadata": {},
   "outputs": [
    {
     "name": "stdout",
     "output_type": "stream",
     "text": [
      "0.8847308591551801\n"
     ]
    },
    {
     "data": {
      "image/png": "[encoded data removed]",
      "text/plain": [
       "<Figure size 792x648 with 1 Axes>"
      ]
     },
     "metadata": {
      "needs_background": "light"
     },
     "output_type": "display_data"
    }
   ],
   "source": [
    "# test set scatter plot\n",
    "f, ax = plt.subplots(figsize=(11, 9))\n",
    "plt.scatter(y_train_pred, y_train)\n",
    "plt.xlabel(\"Predicted\")\n",
    "plt.ylabel(\"Actual\")\n",
    "plt.title(\"Actual vs Predicted\")\n",
    "\n",
    "#r2 of test set\n",
    "r2_train = r2_score(y_train_pred, y_train)\n",
    "print(r2_train)"
   ]
  },
  {
   "cell_type": "markdown",
   "id": "6c911d37",
   "metadata": {},
   "source": [
    "#### 3. error, r2, and cost as the number of iterations increases"
   ]
  },
  {
   "cell_type": "code",
   "execution_count": 22,
   "id": "665241cb",
   "metadata": {},
   "outputs": [],
   "source": [
    "x_train = x_train.drop(\"ŷ\", axis = 1)\n",
    "x_test = x_test.drop(\"ŷ\", axis = 1)"
   ]
  },
  {
   "cell_type": "code",
   "execution_count": 23,
   "id": "0d3fc10a",
   "metadata": {},
   "outputs": [],
   "source": [
    "def error_r2(y_hat, y):\n",
    "    error = y_hat - y\n",
    "    r2 = r2_score(y_hat, y)\n",
    "    return error, r2"
   ]
  },
  {
   "cell_type": "code",
   "execution_count": 24,
   "id": "1331ce8e",
   "metadata": {},
   "outputs": [
    {
     "name": "stdout",
     "output_type": "stream",
     "text": [
      "r2 =  0.8847308591551801\n"
     ]
    },
    {
     "data": {
      "text/plain": [
       "[<matplotlib.lines.Line2D at 0x237ebbe2610>]"
      ]
     },
     "execution_count": 24,
     "metadata": {},
     "output_type": "execute_result"
    },
    {
     "data": {
      "image/png": "[encoded data removed]",
      "text/plain": [
       "<Figure size 432x288 with 1 Axes>"
      ]
     },
     "metadata": {
      "needs_background": "light"
     },
     "output_type": "display_data"
    }
   ],
   "source": [
    "#20000 iterations\n",
    "init_w = initialize_weights()\n",
    "\n",
    "w, costs = grad_descent(init_w, x_train, y_train, 20000, lr)\n",
    "y_hat_train = predict(w, x_train)\n",
    "error, r2 = error_r2(y_hat_train, y_train)\n",
    "\n",
    "print(\"r2 = \", r2)\n",
    "plt.plot(costs)"
   ]
  },
  {
   "cell_type": "code",
   "execution_count": 25,
   "id": "c9aa7338",
   "metadata": {},
   "outputs": [
    {
     "data": {
      "text/plain": [
       "Text(0.5, 1.0, 'Actual vs Error')"
      ]
     },
     "execution_count": 25,
     "metadata": {},
     "output_type": "execute_result"
    },
    {
     "data": {
      "image/png": "[encoded data removed]",
      "text/plain": [
       "<Figure size 792x648 with 1 Axes>"
      ]
     },
     "metadata": {
      "needs_background": "light"
     },
     "output_type": "display_data"
    }
   ],
   "source": [
    "f, ax = plt.subplots(figsize=(11, 9))\n",
    "plt.scatter(y_train, error)\n",
    "plt.xlabel(\"Actual\")\n",
    "plt.ylabel(\"Error\")\n",
    "plt.title(\"Actual vs Error\")"
   ]
  },
  {
   "cell_type": "code",
   "execution_count": 26,
   "id": "b53ade55",
   "metadata": {},
   "outputs": [
    {
     "name": "stdout",
     "output_type": "stream",
     "text": [
      "r2 =  0.8847308591551801\n"
     ]
    },
    {
     "data": {
      "text/plain": [
       "[<matplotlib.lines.Line2D at 0x237ec3e8130>]"
      ]
     },
     "execution_count": 26,
     "metadata": {},
     "output_type": "execute_result"
    },
    {
     "data": {
      "image/png": "[encoded data removed]",
      "text/plain": [
       "<Figure size 432x288 with 1 Axes>"
      ]
     },
     "metadata": {
      "needs_background": "light"
     },
     "output_type": "display_data"
    }
   ],
   "source": [
    "#50000 iterations\n",
    "init_w = initialize_weights()\n",
    "\n",
    "w, costs = grad_descent(init_w, x_train, y_train, 50000, lr)\n",
    "y_hat_train = predict(w, x_train)\n",
    "error, r2 = error_r2(y_hat_train, y_train)\n",
    "\n",
    "print(\"r2 = \", r2)\n",
    "plt.plot(costs)"
   ]
  },
  {
   "cell_type": "code",
   "execution_count": 27,
   "id": "25d708f8",
   "metadata": {},
   "outputs": [
    {
     "data": {
      "text/plain": [
       "Text(0.5, 1.0, 'Actual vs Error')"
      ]
     },
     "execution_count": 27,
     "metadata": {},
     "output_type": "execute_result"
    },
    {
     "data": {
      "image/png": "[encoded data removed]",
      "text/plain": [
       "<Figure size 792x648 with 1 Axes>"
      ]
     },
     "metadata": {
      "needs_background": "light"
     },
     "output_type": "display_data"
    }
   ],
   "source": [
    "f, ax = plt.subplots(figsize=(11, 9))\n",
    "plt.scatter(y_train, error)\n",
    "plt.xlabel(\"Actual\")\n",
    "plt.ylabel(\"Error\")\n",
    "plt.title(\"Actual vs Error\")"
   ]
  },
  {
   "cell_type": "markdown",
   "id": "3d139c0e",
   "metadata": {},
   "source": [
    "#### 4. Visualize the cost function (vs the optimal number of iterations) of each learning rate in ONLY ONE PLOT."
   ]
  },
  {
   "cell_type": "code",
   "execution_count": 28,
   "id": "c4001a1c",
   "metadata": {},
   "outputs": [],
   "source": [
    "#0.1, 0.01, 0.001, 0.0001, 0.2 learning rates\n",
    "lrs = np.array([0.0001, 0.001, 0.01, 0.1, 0.2])\n",
    "iters = np.array([10, 100, 1000, 10000, 20000])\n",
    "mses = []\n",
    "\n",
    "for i in range(5):\n",
    "    init_w = initialize_weights()\n",
    "    w, cost = grad_descent(init_w, x_train, y_train, iters[i], lrs[i])\n",
    "    y_pred = predict(w, x_train)\n",
    "    mse = compute_cost(y_train, y_pred)\n",
    "    mses.append(mse)\n"
   ]
  },
  {
   "cell_type": "code",
   "execution_count": 29,
   "id": "02ecf6c4",
   "metadata": {},
   "outputs": [
    {
     "data": {
      "text/plain": [
       "Text(0.5, 1.0, 'Cost vs Iterations Analysis')"
      ]
     },
     "execution_count": 29,
     "metadata": {},
     "output_type": "execute_result"
    },
    {
     "data": {
      "image/png": "[encoded data removed]",
      "text/plain": [
       "<Figure size 792x648 with 1 Axes>"
      ]
     },
     "metadata": {
      "needs_background": "light"
     },
     "output_type": "display_data"
    }
   ],
   "source": [
    "f, ax = plt.subplots(figsize=(11, 9))\n",
    "plt.plot(iters, mses)\n",
    "plt.xlabel('Number of Iterations')\n",
    "plt.ylabel('Mean Squared Error')\n",
    "plt.title('Cost vs Iterations Analysis')"
   ]
  },
  {
   "cell_type": "code",
   "execution_count": null,
   "id": "0d541250",
   "metadata": {},
   "outputs": [],
   "source": []
  },
  {
   "cell_type": "code",
   "execution_count": null,
   "id": "56581c7b",
   "metadata": {},
   "outputs": [],
   "source": []
  },
  {
   "cell_type": "code",
   "execution_count": null,
   "id": "6b9cc82a",
   "metadata": {},
   "outputs": [],
   "source": []
  }
 ],
 "metadata": {
  "kernelspec": {
   "display_name": "Python 3 (ipykernel)",
   "language": "python",
   "name": "python3"
  },
  "language_info": {
   "codemirror_mode": {
    "name": "ipython",
    "version": 3
   },
   "file_extension": ".py",
   "mimetype": "text/x-python",
   "name": "python",
   "nbconvert_exporter": "python",
   "pygments_lexer": "ipython3",
   "version": "3.9.12"
  }
 },
 "nbformat": 4,
 "nbformat_minor": 5
}
